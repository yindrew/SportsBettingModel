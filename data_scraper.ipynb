{
 "cells": [
  {
   "cell_type": "code",
   "execution_count": 1,
   "id": "f0bc1b74",
   "metadata": {},
   "outputs": [
    {
     "name": "stdout",
     "output_type": "stream",
     "text": [
      "hello world\n"
     ]
    }
   ],
   "source": [
    "print(\"hello world\")"
   ]
  },
  {
   "cell_type": "markdown",
   "id": "76b7e782",
   "metadata": {},
   "source": [
    "9c259f6a8dce298ee86d5b2321a46d0e"
   ]
  },
  {
   "cell_type": "code",
   "execution_count": 2,
   "id": "aeb30b44",
   "metadata": {},
   "outputs": [
    {
     "name": "stdout",
     "output_type": "stream",
     "text": [
      "[{'key': 'americanfootball_cfl', 'group': 'American Football', 'title': 'CFL', 'description': 'Canadian Football League', 'active': True, 'has_outrights': False}, {'key': 'americanfootball_ncaaf', 'group': 'American Football', 'title': 'NCAAF', 'description': 'US College Football', 'active': True, 'has_outrights': False}, {'key': 'americanfootball_ncaaf_championship_winner', 'group': 'American Football', 'title': 'NCAAF Championship Winner', 'description': 'US College Football Championship Winner', 'active': True, 'has_outrights': True}, {'key': 'americanfootball_nfl', 'group': 'American Football', 'title': 'NFL', 'description': 'US Football', 'active': True, 'has_outrights': False}, {'key': 'americanfootball_nfl_preseason', 'group': 'American Football', 'title': 'NFL Preseason', 'description': 'US Football', 'active': True, 'has_outrights': False}, {'key': 'americanfootball_nfl_super_bowl_winner', 'group': 'American Football', 'title': 'NFL Super Bowl Winner', 'description': 'Super Bowl Winner 2025/2026', 'active': True, 'has_outrights': True}, {'key': 'aussierules_afl', 'group': 'Aussie Rules', 'title': 'AFL', 'description': 'Aussie Football', 'active': True, 'has_outrights': False}, {'key': 'baseball_kbo', 'group': 'Baseball', 'title': 'KBO', 'description': 'KBO League', 'active': True, 'has_outrights': False}, {'key': 'baseball_milb', 'group': 'Baseball', 'title': 'MiLB', 'description': 'Minor League Baseball', 'active': True, 'has_outrights': False}, {'key': 'baseball_mlb', 'group': 'Baseball', 'title': 'MLB', 'description': 'Major League Baseball', 'active': True, 'has_outrights': False}, {'key': 'baseball_mlb_world_series_winner', 'group': 'Baseball', 'title': 'MLB World Series Winner', 'description': 'World Series Winner 2025', 'active': True, 'has_outrights': True}, {'key': 'baseball_npb', 'group': 'Baseball', 'title': 'NPB', 'description': 'Nippon Professional Baseball', 'active': True, 'has_outrights': False}, {'key': 'basketball_nba', 'group': 'Basketball', 'title': 'NBA', 'description': 'US Basketball', 'active': True, 'has_outrights': False}, {'key': 'basketball_nba_championship_winner', 'group': 'Basketball', 'title': 'NBA Championship Winner', 'description': 'Championship Winner 2025/2026', 'active': True, 'has_outrights': True}, {'key': 'basketball_ncaab_championship_winner', 'group': 'Basketball', 'title': 'NCAAB Championship Winner', 'description': 'US College Basketball Championship Winner', 'active': True, 'has_outrights': True}, {'key': 'basketball_wnba', 'group': 'Basketball', 'title': 'WNBA', 'description': 'US Basketball', 'active': True, 'has_outrights': False}, {'key': 'boxing_boxing', 'group': 'Boxing', 'title': 'Boxing', 'description': 'Boxing Bouts', 'active': True, 'has_outrights': False}, {'key': 'cricket_caribbean_premier_league', 'group': 'Cricket', 'title': 'CPLT20', 'description': 'Caribbean Premier League', 'active': True, 'has_outrights': False}, {'key': 'cricket_odi', 'group': 'Cricket', 'title': 'One Day Internationals', 'description': 'One Day Internationals', 'active': True, 'has_outrights': False}, {'key': 'cricket_the_hundred', 'group': 'Cricket', 'title': 'The Hundred', 'description': 'The Hundred', 'active': True, 'has_outrights': False}, {'key': 'golf_masters_tournament_winner', 'group': 'Golf', 'title': 'Masters Tournament Winner', 'description': '2026 Winner', 'active': True, 'has_outrights': True}, {'key': 'icehockey_nhl', 'group': 'Ice Hockey', 'title': 'NHL', 'description': 'US Ice Hockey', 'active': True, 'has_outrights': False}, {'key': 'icehockey_nhl_championship_winner', 'group': 'Ice Hockey', 'title': 'NHL Championship Winner', 'description': 'Stanley Cup Winner 2025/2026', 'active': True, 'has_outrights': True}, {'key': 'lacrosse_pll', 'group': 'Lacrosse', 'title': 'PLL', 'description': 'Premier Lacrosse League', 'active': True, 'has_outrights': False}, {'key': 'mma_mixed_martial_arts', 'group': 'Mixed Martial Arts', 'title': 'MMA', 'description': 'Mixed Martial Arts', 'active': True, 'has_outrights': False}, {'key': 'politics_us_presidential_election_winner', 'group': 'Politics', 'title': 'US Presidential Elections Winner', 'description': '2028 US Presidential Election Winner', 'active': True, 'has_outrights': True}, {'key': 'rugbyleague_nrl', 'group': 'Rugby League', 'title': 'NRL', 'description': 'Aussie Rugby League', 'active': True, 'has_outrights': False}, {'key': 'soccer_argentina_primera_division', 'group': 'Soccer', 'title': 'Primera División - Argentina', 'description': 'Argentine Primera División', 'active': True, 'has_outrights': False}, {'key': 'soccer_austria_bundesliga', 'group': 'Soccer', 'title': 'Austrian Football Bundesliga', 'description': 'Austrian Soccer', 'active': True, 'has_outrights': False}, {'key': 'soccer_belgium_first_div', 'group': 'Soccer', 'title': 'Belgium First Div', 'description': 'Belgian First Division A', 'active': True, 'has_outrights': False}, {'key': 'soccer_brazil_campeonato', 'group': 'Soccer', 'title': 'Brazil Série A', 'description': 'Brasileirão Série A', 'active': True, 'has_outrights': False}, {'key': 'soccer_brazil_serie_b', 'group': 'Soccer', 'title': 'Brazil Série B', 'description': 'Campeonato Brasileiro Série B', 'active': True, 'has_outrights': False}, {'key': 'soccer_chile_campeonato', 'group': 'Soccer', 'title': 'Primera División - Chile', 'description': 'Campeonato Chileno', 'active': True, 'has_outrights': False}, {'key': 'soccer_china_superleague', 'group': 'Soccer', 'title': 'Super League - China', 'description': 'Chinese Soccer', 'active': True, 'has_outrights': False}, {'key': 'soccer_concacaf_leagues_cup', 'group': 'Soccer', 'title': 'Leagues Cup', 'description': 'CONCACAF Leagues Cup', 'active': True, 'has_outrights': False}, {'key': 'soccer_conmebol_copa_libertadores', 'group': 'Soccer', 'title': 'Copa Libertadores', 'description': 'CONMEBOL Copa Libertadores', 'active': True, 'has_outrights': False}, {'key': 'soccer_conmebol_copa_sudamericana', 'group': 'Soccer', 'title': 'Copa Sudamericana', 'description': 'CONMEBOL Copa Sudamericana', 'active': True, 'has_outrights': False}, {'key': 'soccer_denmark_superliga', 'group': 'Soccer', 'title': 'Denmark Superliga', 'description': 'Danish Soccer', 'active': True, 'has_outrights': False}, {'key': 'soccer_efl_champ', 'group': 'Soccer', 'title': 'Championship', 'description': 'EFL Championship', 'active': True, 'has_outrights': False}, {'key': 'soccer_england_league1', 'group': 'Soccer', 'title': 'League 1', 'description': 'EFL League 1', 'active': True, 'has_outrights': False}, {'key': 'soccer_england_league2', 'group': 'Soccer', 'title': 'League 2', 'description': 'EFL League 2 ', 'active': True, 'has_outrights': False}, {'key': 'soccer_epl', 'group': 'Soccer', 'title': 'EPL', 'description': 'English Premier League', 'active': True, 'has_outrights': False}, {'key': 'soccer_fifa_world_cup_qualifiers_europe', 'group': 'Soccer', 'title': 'FIFA World Cup Qualifiers - Europe', 'description': 'FIFA World Cup Qualifiers - UEFA', 'active': True, 'has_outrights': False}, {'key': 'soccer_fifa_world_cup_qualifiers_south_america', 'group': 'Soccer', 'title': 'FIFA World Cup Qualifiers - South America', 'description': 'FIFA World Cup Qualifiers - CONMEBOL', 'active': True, 'has_outrights': False}, {'key': 'soccer_fifa_world_cup_winner', 'group': 'Soccer', 'title': 'FIFA World Cup Winner', 'description': 'FIFA World Cup Winner 2026', 'active': True, 'has_outrights': True}, {'key': 'soccer_finland_veikkausliiga', 'group': 'Soccer', 'title': 'Veikkausliiga - Finland', 'description': 'Finnish  Soccer', 'active': True, 'has_outrights': False}, {'key': 'soccer_france_ligue_one', 'group': 'Soccer', 'title': 'Ligue 1 - France', 'description': 'French Soccer', 'active': True, 'has_outrights': False}, {'key': 'soccer_france_ligue_two', 'group': 'Soccer', 'title': 'Ligue 2 - France', 'description': 'French Soccer', 'active': True, 'has_outrights': False}, {'key': 'soccer_germany_bundesliga', 'group': 'Soccer', 'title': 'Bundesliga - Germany', 'description': 'German Soccer', 'active': True, 'has_outrights': False}, {'key': 'soccer_germany_bundesliga2', 'group': 'Soccer', 'title': 'Bundesliga 2 - Germany', 'description': 'German Soccer', 'active': True, 'has_outrights': False}, {'key': 'soccer_germany_liga3', 'group': 'Soccer', 'title': '3. Liga - Germany', 'description': 'German Soccer', 'active': True, 'has_outrights': False}, {'key': 'soccer_greece_super_league', 'group': 'Soccer', 'title': 'Super League - Greece', 'description': 'Greek Soccer', 'active': True, 'has_outrights': False}, {'key': 'soccer_italy_serie_a', 'group': 'Soccer', 'title': 'Serie A - Italy', 'description': 'Italian Soccer', 'active': True, 'has_outrights': False}, {'key': 'soccer_italy_serie_b', 'group': 'Soccer', 'title': 'Serie B - Italy', 'description': 'Italian Soccer', 'active': True, 'has_outrights': False}, {'key': 'soccer_japan_j_league', 'group': 'Soccer', 'title': 'J League', 'description': 'Japan Soccer League', 'active': True, 'has_outrights': False}, {'key': 'soccer_korea_kleague1', 'group': 'Soccer', 'title': 'K League 1', 'description': 'Korean Soccer', 'active': True, 'has_outrights': False}, {'key': 'soccer_league_of_ireland', 'group': 'Soccer', 'title': 'League of Ireland', 'description': 'Airtricity League Premier Division', 'active': True, 'has_outrights': False}, {'key': 'soccer_mexico_ligamx', 'group': 'Soccer', 'title': 'Liga MX', 'description': 'Mexican Soccer', 'active': True, 'has_outrights': False}, {'key': 'soccer_netherlands_eredivisie', 'group': 'Soccer', 'title': 'Dutch Eredivisie', 'description': 'Dutch Soccer', 'active': True, 'has_outrights': False}, {'key': 'soccer_norway_eliteserien', 'group': 'Soccer', 'title': 'Eliteserien - Norway', 'description': 'Norwegian Soccer', 'active': True, 'has_outrights': False}, {'key': 'soccer_poland_ekstraklasa', 'group': 'Soccer', 'title': 'Ekstraklasa - Poland', 'description': 'Polish Soccer', 'active': True, 'has_outrights': False}, {'key': 'soccer_portugal_primeira_liga', 'group': 'Soccer', 'title': 'Primeira Liga - Portugal', 'description': 'Portugese Soccer', 'active': True, 'has_outrights': False}, {'key': 'soccer_spain_la_liga', 'group': 'Soccer', 'title': 'La Liga - Spain', 'description': 'Spanish Soccer', 'active': True, 'has_outrights': False}, {'key': 'soccer_spain_segunda_division', 'group': 'Soccer', 'title': 'La Liga 2 - Spain', 'description': 'Spanish Soccer', 'active': True, 'has_outrights': False}, {'key': 'soccer_spl', 'group': 'Soccer', 'title': 'Premiership - Scotland', 'description': 'Scottish Premiership', 'active': True, 'has_outrights': False}, {'key': 'soccer_sweden_allsvenskan', 'group': 'Soccer', 'title': 'Allsvenskan - Sweden', 'description': 'Swedish Soccer', 'active': True, 'has_outrights': False}, {'key': 'soccer_sweden_superettan', 'group': 'Soccer', 'title': 'Superettan - Sweden', 'description': 'Swedish Soccer', 'active': True, 'has_outrights': False}, {'key': 'soccer_switzerland_superleague', 'group': 'Soccer', 'title': 'Swiss Superleague', 'description': 'Swiss Soccer', 'active': True, 'has_outrights': False}, {'key': 'soccer_turkey_super_league', 'group': 'Soccer', 'title': 'Turkey Super League', 'description': 'Turkish Soccer', 'active': True, 'has_outrights': False}, {'key': 'soccer_uefa_champs_league_qualification', 'group': 'Soccer', 'title': 'UEFA Champions League Qualification', 'description': 'European Champions League Qualification', 'active': True, 'has_outrights': False}, {'key': 'soccer_usa_mls', 'group': 'Soccer', 'title': 'MLS', 'description': 'Major League Soccer', 'active': True, 'has_outrights': False}]\n"
     ]
    }
   ],
   "source": [
    "import requests\n",
    "\n",
    "url = \"https://api.the-odds-api.com/v4/sports\"\n",
    "api_key = \"9c259f6a8dce298ee86d5b2321a46d0e\"\n",
    "params = {\"apiKey\": api_key}\n",
    "\n",
    "response = requests.get(url, params=params)\n",
    "if response.status_code == 200:\n",
    "    data = response.json()\n",
    "    print(data)\n",
    "else:\n",
    "    print(f\"Error: {response.status_code} - {response.text}\")"
   ]
  },
  {
   "cell_type": "code",
   "execution_count": 6,
   "id": "f5d0544b",
   "metadata": {},
   "outputs": [
    {
     "data": {
      "text/plain": [
       "{'key': 'americanfootball_nfl_super_bowl_winner',\n",
       " 'group': 'American Football',\n",
       " 'title': 'NFL Super Bowl Winner',\n",
       " 'description': 'Super Bowl Winner 2025/2026',\n",
       " 'active': True,\n",
       " 'has_outrights': True}"
      ]
     },
     "execution_count": 6,
     "metadata": {},
     "output_type": "execute_result"
    }
   ],
   "source": [
    "data[5]"
   ]
  },
  {
   "cell_type": "code",
   "execution_count": null,
   "id": "5997ad2b",
   "metadata": {},
   "outputs": [],
   "source": []
  }
 ],
 "metadata": {
  "kernelspec": {
   "display_name": "base",
   "language": "python",
   "name": "python3"
  },
  "language_info": {
   "codemirror_mode": {
    "name": "ipython",
    "version": 3
   },
   "file_extension": ".py",
   "mimetype": "text/x-python",
   "name": "python",
   "nbconvert_exporter": "python",
   "pygments_lexer": "ipython3",
   "version": "3.12.7"
  }
 },
 "nbformat": 4,
 "nbformat_minor": 5
}
